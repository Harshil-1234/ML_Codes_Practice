{
 "cells": [
  {
   "cell_type": "markdown",
   "id": "01d5ee39",
   "metadata": {},
   "source": [
    "# Web Scraping\n",
    "##### Used when website have no API to provide data and we somehow want data from that website"
   ]
  },
  {
   "cell_type": "code",
   "execution_count": 1,
   "id": "cb26c219",
   "metadata": {},
   "outputs": [],
   "source": [
    "# Extract companies' name, rating, number of reviews, headquarter"
   ]
  },
  {
   "cell_type": "code",
   "execution_count": 2,
   "id": "b50620d3",
   "metadata": {},
   "outputs": [],
   "source": [
    "import pandas as pd"
   ]
  },
  {
   "cell_type": "code",
   "execution_count": 3,
   "id": "1cb1b5d3",
   "metadata": {},
   "outputs": [],
   "source": [
    "import requests \n",
    "# BeautifulSoup -> very famous library for Web Scraping\n",
    "from bs4 import BeautifulSoup"
   ]
  },
  {
   "cell_type": "code",
   "execution_count": 4,
   "id": "d84b3803",
   "metadata": {},
   "outputs": [],
   "source": [
    "headers={'User-Agent':'Mozilla/5.0 (Windows NT 6.3; Win 64 ; x64) Apple WeKit /537.36(KHTML , like Gecko) Chrome/80.0.3987.162 Safari/537.36'}\n",
    "webpage = requests.get('https://www.ambitionbox.com/list-of-companies?page=1',headers=headers).text"
   ]
  },
  {
   "cell_type": "code",
   "execution_count": 5,
   "id": "ffddc899",
   "metadata": {},
   "outputs": [],
   "source": [
    "soup = BeautifulSoup(webpage,'lxml')"
   ]
  },
  {
   "cell_type": "code",
   "execution_count": 6,
   "id": "05d5605a",
   "metadata": {},
   "outputs": [],
   "source": [
    "# print(soup.prettify()) -> prints the html of webpage extracted with proper indentation"
   ]
  },
  {
   "cell_type": "code",
   "execution_count": 7,
   "id": "b5b3c290",
   "metadata": {},
   "outputs": [
    {
     "data": {
      "text/plain": [
       "[<h2 class=\"companyCardWrapper__companyName\" title=\"TCS\">\n",
       " \t\t\t\t\t\t\t\t\t\tTCS\n",
       " \t\t\t\t\t\t\t\t\t</h2>,\n",
       " <h2 class=\"companyCardWrapper__companyName\" title=\"Accenture\">\n",
       " \t\t\t\t\t\t\t\t\t\tAccenture\n",
       " \t\t\t\t\t\t\t\t\t</h2>,\n",
       " <h2 class=\"companyCardWrapper__companyName\" title=\"Cognizant\">\n",
       " \t\t\t\t\t\t\t\t\t\tCognizant\n",
       " \t\t\t\t\t\t\t\t\t</h2>,\n",
       " <h2 class=\"companyCardWrapper__companyName\" title=\"Wipro\">\n",
       " \t\t\t\t\t\t\t\t\t\tWipro\n",
       " \t\t\t\t\t\t\t\t\t</h2>,\n",
       " <h2 class=\"companyCardWrapper__companyName\" title=\"ICICI Bank\">\n",
       " \t\t\t\t\t\t\t\t\t\tICICI Bank\n",
       " \t\t\t\t\t\t\t\t\t</h2>,\n",
       " <h2 class=\"companyCardWrapper__companyName\" title=\"HDFC Bank\">\n",
       " \t\t\t\t\t\t\t\t\t\tHDFC Bank\n",
       " \t\t\t\t\t\t\t\t\t</h2>,\n",
       " <h2 class=\"companyCardWrapper__companyName\" title=\"Infosys\">\n",
       " \t\t\t\t\t\t\t\t\t\tInfosys\n",
       " \t\t\t\t\t\t\t\t\t</h2>,\n",
       " <h2 class=\"companyCardWrapper__companyName\" title=\"Capgemini\">\n",
       " \t\t\t\t\t\t\t\t\t\tCapgemini\n",
       " \t\t\t\t\t\t\t\t\t</h2>,\n",
       " <h2 class=\"companyCardWrapper__companyName\" title=\"HCLTech\">\n",
       " \t\t\t\t\t\t\t\t\t\tHCLTech\n",
       " \t\t\t\t\t\t\t\t\t</h2>,\n",
       " <h2 class=\"companyCardWrapper__companyName\" title=\"Tech Mahindra\">\n",
       " \t\t\t\t\t\t\t\t\t\tTech Mahindra\n",
       " \t\t\t\t\t\t\t\t\t</h2>,\n",
       " <h2 class=\"companyCardWrapper__companyName\" title=\"Genpact\">\n",
       " \t\t\t\t\t\t\t\t\t\tGenpact\n",
       " \t\t\t\t\t\t\t\t\t</h2>,\n",
       " <h2 class=\"companyCardWrapper__companyName\" title=\"Axis Bank\">\n",
       " \t\t\t\t\t\t\t\t\t\tAxis Bank\n",
       " \t\t\t\t\t\t\t\t\t</h2>,\n",
       " <h2 class=\"companyCardWrapper__companyName\" title=\"Concentrix Corporation\">\n",
       " \t\t\t\t\t\t\t\t\t\tConcentrix Corporation\n",
       " \t\t\t\t\t\t\t\t\t</h2>,\n",
       " <h2 class=\"companyCardWrapper__companyName\" title=\"Amazon\">\n",
       " \t\t\t\t\t\t\t\t\t\tAmazon\n",
       " \t\t\t\t\t\t\t\t\t</h2>,\n",
       " <h2 class=\"companyCardWrapper__companyName\" title=\"Teleperformance\">\n",
       " \t\t\t\t\t\t\t\t\t\tTeleperformance\n",
       " \t\t\t\t\t\t\t\t\t</h2>,\n",
       " <h2 class=\"companyCardWrapper__companyName\" title=\"Reliance Jio\">\n",
       " \t\t\t\t\t\t\t\t\t\tReliance Jio\n",
       " \t\t\t\t\t\t\t\t\t</h2>,\n",
       " <h2 class=\"companyCardWrapper__companyName\" title=\"IBM\">\n",
       " \t\t\t\t\t\t\t\t\t\tIBM\n",
       " \t\t\t\t\t\t\t\t\t</h2>,\n",
       " <h2 class=\"companyCardWrapper__companyName\" title=\"Larsen &amp; Toubro Limited\">\n",
       " \t\t\t\t\t\t\t\t\t\tLarsen &amp; Toubro Limited\n",
       " \t\t\t\t\t\t\t\t\t</h2>,\n",
       " <h2 class=\"companyCardWrapper__companyName\" title=\"Reliance Retail\">\n",
       " \t\t\t\t\t\t\t\t\t\tReliance Retail\n",
       " \t\t\t\t\t\t\t\t\t</h2>,\n",
       " <h2 class=\"companyCardWrapper__companyName\" title=\"HDB Financial Services\">\n",
       " \t\t\t\t\t\t\t\t\t\tHDB Financial Services\n",
       " \t\t\t\t\t\t\t\t\t</h2>,\n",
       " <h2 class=\"main-title body-medium\">\n",
       " \t\t\tCompanies by  Industry\n",
       " \t\t</h2>,\n",
       " <h2 class=\"main-title body-medium\">\n",
       " \t\t\tCompanies by  Locations\n",
       " \t\t</h2>,\n",
       " <h2 class=\"main-title body-medium\">\n",
       " \t\t\tCompanies by  Type\n",
       " \t\t</h2>,\n",
       " <h2 class=\"main-title body-medium\">\n",
       " \t\t\tCompanies by  Badges\n",
       " \t\t</h2>]"
      ]
     },
     "execution_count": 7,
     "metadata": {},
     "output_type": "execute_result"
    }
   ],
   "source": [
    "soup.find_all('h1')[0].text\n",
    "soup.find_all('h2')"
   ]
  },
  {
   "cell_type": "code",
   "execution_count": 8,
   "id": "a0ea4962",
   "metadata": {},
   "outputs": [
    {
     "name": "stdout",
     "output_type": "stream",
     "text": [
      "TCS\n",
      "Accenture\n",
      "Cognizant\n",
      "Wipro\n",
      "ICICI Bank\n",
      "HDFC Bank\n",
      "Infosys\n",
      "Capgemini\n",
      "HCLTech\n",
      "Tech Mahindra\n",
      "Genpact\n",
      "Axis Bank\n",
      "Concentrix Corporation\n",
      "Amazon\n",
      "Teleperformance\n",
      "Reliance Jio\n",
      "IBM\n",
      "Larsen & Toubro Limited\n",
      "Reliance Retail\n",
      "HDB Financial Services\n",
      "Companies by  Industry\n",
      "Companies by  Locations\n",
      "Companies by  Type\n",
      "Companies by  Badges\n"
     ]
    }
   ],
   "source": [
    "for i in soup.find_all('h2'):\n",
    "    print(i.text.strip())"
   ]
  },
  {
   "cell_type": "code",
   "execution_count": 9,
   "id": "b9eefd76",
   "metadata": {},
   "outputs": [
    {
     "name": "stdout",
     "output_type": "stream",
     "text": [
      "3.8\n",
      "4.0\n",
      "3.9\n",
      "3.8\n",
      "4.0\n",
      "3.9\n",
      "3.9\n",
      "3.8\n",
      "3.7\n",
      "3.7\n",
      "3.9\n",
      "3.8\n",
      "3.9\n",
      "4.1\n",
      "3.5\n",
      "3.9\n",
      "4.1\n",
      "4.0\n",
      "3.9\n",
      "4.0\n"
     ]
    }
   ],
   "source": [
    "for i in soup.find_all('span',class_='companyCardWrapper__companyRatingValue'):\n",
    "    print(i.text.strip())"
   ]
  },
  {
   "cell_type": "code",
   "execution_count": null,
   "id": "af111cea",
   "metadata": {},
   "outputs": [],
   "source": []
  },
  {
   "cell_type": "code",
   "execution_count": null,
   "id": "a2b7d766",
   "metadata": {},
   "outputs": [],
   "source": []
  }
 ],
 "metadata": {
  "kernelspec": {
   "display_name": "Python 3 (ipykernel)",
   "language": "python",
   "name": "python3"
  },
  "language_info": {
   "codemirror_mode": {
    "name": "ipython",
    "version": 3
   },
   "file_extension": ".py",
   "mimetype": "text/x-python",
   "name": "python",
   "nbconvert_exporter": "python",
   "pygments_lexer": "ipython3",
   "version": "3.10.9"
  }
 },
 "nbformat": 4,
 "nbformat_minor": 5
}
